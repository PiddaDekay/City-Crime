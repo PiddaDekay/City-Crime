{
 "cells": [
  {
   "cell_type": "markdown",
   "metadata": {},
   "source": [
    "# City Crime Analysis"
   ]
  },
  {
   "cell_type": "code",
   "execution_count": 1,
   "metadata": {},
   "outputs": [],
   "source": [
    "# Preparation for pandas and NumPy\n",
    "import numpy as np\n",
    "import pandas as pd\n",
    "import heapq\n",
    "from pandas import DataFrame, Series\n",
    "\n",
    "# Set some pandas options\n",
    "pd.set_option('display.notebook_repr_html', False)\n",
    "pd.set_option('display.max_rows', 60)\n",
    "pd.set_option('display.max_columns', 60)\n",
    "pd.set_option('display.width', 500)\n",
    "\n",
    "# Preparation for matplotlib\n",
    "%matplotlib inline "
   ]
  },
  {
   "cell_type": "code",
   "execution_count": 2,
   "metadata": {},
   "outputs": [],
   "source": [
    "crime = pd.read_csv(\"report.csv\")"
   ]
  },
  {
   "cell_type": "markdown",
   "metadata": {},
   "source": [
    "# 1.Objective of the Proposed Research"
   ]
  },
  {
   "cell_type": "markdown",
   "metadata": {},
   "source": [
    "You are the founder and CEO of a new startup dedicated to police enforcement optimization. Pick the name of your startup. As part of your customer acquisition efforts, you schedule multiple appointments with executive officers across the nation to showcase your report depicting the most interesting facts about their city. Your report could incorporate information about a specific geography or aggregated nation-wise. For example, you can decide to concentrate on a specific type of crime for all geographies, or to take a specific county and show all the information about it."
   ]
  },
  {
   "cell_type": "markdown",
   "metadata": {},
   "source": [
    "Our company's name is **California Living Service Center**. We are here to help those people who are living in California and who are about to settle down in California, choose the best and most suitable city, and also give out information of population and crime in California."
   ]
  },
  {
   "cell_type": "markdown",
   "metadata": {},
   "source": [
    "My objective is through analyzing the population and crimes in California, i show the basic information of population and crime in the past and the present, show the trends of population and crime in California, and give my recommmendations for people who need help!"
   ]
  },
  {
   "cell_type": "markdown",
   "metadata": {},
   "source": [
    "# 2. Data Exploration"
   ]
  },
  {
   "cell_type": "markdown",
   "metadata": {},
   "source": [
    "## 1）Show structure and information of the dataset"
   ]
  },
  {
   "cell_type": "code",
   "execution_count": 3,
   "metadata": {
    "scrolled": false
   },
   "outputs": [
    {
     "name": "stdout",
     "output_type": "stream",
     "text": [
      "<class 'pandas.core.frame.DataFrame'>\n",
      "RangeIndex: 2829 entries, 0 to 2828\n",
      "Data columns (total 15 columns):\n",
      " #   Column               Non-Null Count  Dtype  \n",
      "---  ------               --------------  -----  \n",
      " 0   report_year          2829 non-null   int64  \n",
      " 1   agency_code          2788 non-null   object \n",
      " 2   agency_jurisdiction  2829 non-null   object \n",
      " 3   population           2760 non-null   float64\n",
      " 4   violent_crimes       2794 non-null   float64\n",
      " 5   homicides            2795 non-null   float64\n",
      " 6   rapes                2754 non-null   float64\n",
      " 7   assaults             2753 non-null   float64\n",
      " 8   robberies            2754 non-null   float64\n",
      " 9   months_reported      2692 non-null   float64\n",
      " 10  crimes_percapita     2794 non-null   float64\n",
      " 11  homicides_percapita  2795 non-null   float64\n",
      " 12  rapes_percapita      2754 non-null   float64\n",
      " 13  assaults_percapita   2753 non-null   float64\n",
      " 14  robberies_percapita  2754 non-null   float64\n",
      "dtypes: float64(12), int64(1), object(2)\n",
      "memory usage: 331.6+ KB\n"
     ]
    }
   ],
   "source": [
    "crime.info()"
   ]
  },
  {
   "cell_type": "markdown",
   "metadata": {},
   "source": [
    "### This dataset has 15 columns and 2829 rows"
   ]
  },
  {
   "cell_type": "markdown",
   "metadata": {},
   "source": [
    "## 2) Show first 5 rows in dataset"
   ]
  },
  {
   "cell_type": "code",
   "execution_count": 4,
   "metadata": {
    "scrolled": false
   },
   "outputs": [
    {
     "data": {
      "text/plain": [
       "   report_year agency_code agency_jurisdiction  population  violent_crimes  homicides  rapes  assaults  robberies  months_reported  crimes_percapita  homicides_percapita  rapes_percapita  assaults_percapita  robberies_percapita\n",
       "0         1975     NM00101     Albuquerque, NM    286238.0          2383.0       30.0  181.0    1353.0      819.0             12.0            832.52                10.48            63.23              472.68               286.13\n",
       "1         1975     TX22001       Arlington, TX    112478.0           278.0        5.0   28.0     132.0      113.0             12.0            247.16                 4.45            24.89              117.36               100.46\n",
       "2         1975     GAAPD00         Atlanta, GA    490584.0          8033.0      185.0  443.0    3518.0     3887.0             12.0           1637.44                37.71            90.30              717.10               792.32\n",
       "3         1975     CO00101          Aurora, CO    116656.0           611.0        7.0   44.0     389.0      171.0             12.0            523.76                 6.00            37.72              333.46               146.58\n",
       "4         1975     TX22701          Austin, TX    300400.0          1215.0       33.0  190.0     463.0      529.0             12.0            404.46                10.99            63.25              154.13               176.10"
      ]
     },
     "execution_count": 4,
     "metadata": {},
     "output_type": "execute_result"
    }
   ],
   "source": [
    "crime.head(5)"
   ]
  },
  {
   "cell_type": "markdown",
   "metadata": {},
   "source": [
    "## 3）Since we only serve and focus on California, let's see how many cases in California"
   ]
  },
  {
   "cell_type": "code",
   "execution_count": 5,
   "metadata": {},
   "outputs": [],
   "source": [
    "crime_ca  = crime[crime['agency_jurisdiction'].str.contains('CA')]"
   ]
  },
  {
   "cell_type": "code",
   "execution_count": 6,
   "metadata": {
    "scrolled": false
   },
   "outputs": [
    {
     "name": "stdout",
     "output_type": "stream",
     "text": [
      "<class 'pandas.core.frame.DataFrame'>\n",
      "Int64Index: 369 entries, 20 to 2818\n",
      "Data columns (total 15 columns):\n",
      " #   Column               Non-Null Count  Dtype  \n",
      "---  ------               --------------  -----  \n",
      " 0   report_year          369 non-null    int64  \n",
      " 1   agency_code          369 non-null    object \n",
      " 2   agency_jurisdiction  369 non-null    object \n",
      " 3   population           369 non-null    float64\n",
      " 4   violent_crimes       369 non-null    float64\n",
      " 5   homicides            369 non-null    float64\n",
      " 6   rapes                369 non-null    float64\n",
      " 7   assaults             369 non-null    float64\n",
      " 8   robberies            369 non-null    float64\n",
      " 9   months_reported      360 non-null    float64\n",
      " 10  crimes_percapita     369 non-null    float64\n",
      " 11  homicides_percapita  369 non-null    float64\n",
      " 12  rapes_percapita      369 non-null    float64\n",
      " 13  assaults_percapita   369 non-null    float64\n",
      " 14  robberies_percapita  369 non-null    float64\n",
      "dtypes: float64(12), int64(1), object(2)\n",
      "memory usage: 46.1+ KB\n"
     ]
    }
   ],
   "source": [
    "crime_ca.info()"
   ]
  },
  {
   "cell_type": "markdown",
   "metadata": {},
   "source": [
    "### We have 369 cases in CA"
   ]
  },
  {
   "cell_type": "markdown",
   "metadata": {},
   "source": [
    "## 4) Let's take a look at  population information in CA, and how many cities in this dataset"
   ]
  },
  {
   "cell_type": "code",
   "execution_count": 7,
   "metadata": {
    "scrolled": true
   },
   "outputs": [
    {
     "data": {
      "text/plain": [
       "Counter({'Fresno, CA': 41,\n",
       "         'Long Beach, CA': 41,\n",
       "         'Los Angeles County, CA': 41,\n",
       "         'Los Angeles, CA': 41,\n",
       "         'Oakland, CA': 41,\n",
       "         'Sacramento, CA': 41,\n",
       "         'San Diego, CA': 41,\n",
       "         'San Francisco, CA': 41,\n",
       "         'San Jose, CA': 41})"
      ]
     },
     "execution_count": 7,
     "metadata": {},
     "output_type": "execute_result"
    }
   ],
   "source": [
    "from collections import Counter\n",
    "Counter(crime_ca[\"agency_jurisdiction\"])"
   ]
  },
  {
   "cell_type": "code",
   "execution_count": 8,
   "metadata": {},
   "outputs": [
    {
     "data": {
      "text/plain": [
       "agency_jurisdiction\n",
       "Fresno, CA                41\n",
       "Long Beach, CA            41\n",
       "Los Angeles County, CA    41\n",
       "Los Angeles, CA           41\n",
       "Oakland, CA               41\n",
       "Sacramento, CA            41\n",
       "San Diego, CA             41\n",
       "San Francisco, CA         41\n",
       "San Jose, CA              41\n",
       "dtype: int64"
      ]
     },
     "execution_count": 8,
     "metadata": {},
     "output_type": "execute_result"
    }
   ],
   "source": [
    "ca_case = crime_ca.groupby(\"agency_jurisdiction\")\n",
    "ca_case.size()"
   ]
  },
  {
   "cell_type": "markdown",
   "metadata": {},
   "source": [
    "### There are 9 cities in the dataset of CA, and each one is recorded by 41 times"
   ]
  },
  {
   "cell_type": "markdown",
   "metadata": {},
   "source": [
    "# 3. One column selection"
   ]
  },
  {
   "cell_type": "markdown",
   "metadata": {},
   "source": [
    "print 10 largest population with each row in new dataset, and take a loot at each crime information"
   ]
  },
  {
   "cell_type": "code",
   "execution_count": 9,
   "metadata": {},
   "outputs": [],
   "source": [
    "ca_population =heapq.nlargest(10,crime_ca[\"population\"])"
   ]
  },
  {
   "cell_type": "code",
   "execution_count": 10,
   "metadata": {
    "scrolled": true
   },
   "outputs": [
    {
     "data": {
      "text/plain": [
       "      report_year agency_code agency_jurisdiction  population  violent_crimes  homicides   rapes  assaults  robberies  months_reported  crimes_percapita  homicides_percapita  rapes_percapita  assaults_percapita  robberies_percapita\n",
       "2030         2004     CA01942     Los Angeles, CA   3864018.0         42786.0      518.0  1131.0   26956.0    14181.0             12.0           1107.29                13.41            29.27              697.62               367.00\n",
       "2099         2005     CA01942     Los Angeles, CA   3871077.0         31767.0      489.0  1105.0   16376.0    13797.0             12.0            820.62                12.63            28.55              423.03               356.41\n",
       "2168         2006     CA01942     Los Angeles, CA   3879455.0         30526.0      480.0  1059.0   14634.0    14353.0             12.0            786.86                12.37            27.30              377.22               369.97\n",
       "2237         2007     CA01942     Los Angeles, CA   3870487.0         27806.0      395.0  1004.0   12926.0    13481.0             12.0            718.41                10.21            25.94              333.96               348.30\n",
       "2306         2008     CA01942     Los Angeles, CA   3850920.0         26553.0      384.0   949.0   11798.0    13422.0             12.0            689.52                 9.97            24.64              306.37               348.54\n",
       "2375         2009     CA01942     Los Angeles, CA   3848776.0         24070.0      312.0   903.0   10638.0    12217.0             12.0            625.39                 8.11            23.46              276.40               317.43\n",
       "2582         2012     CA01942     Los Angeles, CA   3855122.0         18547.0      299.0   936.0    8329.0     8983.0             12.0            481.10                 7.76            24.28              216.05               233.01\n",
       "2651         2013     CA01942     Los Angeles, CA   3878725.0         16524.0      251.0   764.0    7624.0     7885.0             12.0            426.02                 6.47            19.70              196.56               203.29\n",
       "2720         2014     CA01942     Los Angeles, CA   3906772.0         19171.0      260.0  1126.0    9836.0     7949.0             12.0            490.71                 6.66            28.82              251.77               203.47\n",
       "2789         2015     CA01942     Los Angeles, CA   3962726.0         25156.0      282.0  2209.0   13713.0     8952.0              NaN            634.82                 7.12            55.74              346.05               225.91"
      ]
     },
     "execution_count": 10,
     "metadata": {},
     "output_type": "execute_result"
    }
   ],
   "source": [
    "crime_ca[crime_ca[\"population\"].isin(ca_population)]"
   ]
  },
  {
   "cell_type": "markdown",
   "metadata": {},
   "source": [
    "#### As we can see, the cases with 10 largest population are all in Los Angeles, and looks like some crime is decreasing, and the population in LA is increasing too. <br>\n",
    "#### And how about other cities?"
   ]
  },
  {
   "cell_type": "markdown",
   "metadata": {},
   "source": [
    "# 4. Sort"
   ]
  },
  {
   "cell_type": "markdown",
   "metadata": {},
   "source": [
    "In this section, let's take a loot at crimes per capita in each city. Then compare top 5 city and bottom 5 cities respectively, to see which cities are more dangerous, which are safer."
   ]
  },
  {
   "cell_type": "markdown",
   "metadata": {},
   "source": [
    "Create new dataset that only have columns - report_year, agency_jurisdiction, population, crimes_percapita, homicides_percapita, rapes_percapita, assaults_percapita, robberies_percapita"
   ]
  },
  {
   "cell_type": "code",
   "execution_count": 11,
   "metadata": {},
   "outputs": [],
   "source": [
    "new_crime_ca = crime_ca.loc[:,[\"report_year\",\"agency_jurisdiction\",\"population\",\"crimes_percapita\"]]"
   ]
  },
  {
   "cell_type": "code",
   "execution_count": 12,
   "metadata": {},
   "outputs": [],
   "source": [
    "crime_ca_sort = new_crime_ca.sort_values(by = \"crimes_percapita\",ascending=False)"
   ]
  },
  {
   "cell_type": "code",
   "execution_count": 13,
   "metadata": {},
   "outputs": [
    {
     "data": {
      "text/plain": [
       "      report_year agency_jurisdiction  population  crimes_percapita\n",
       "1216         1992         Oakland, CA    386086.0           2626.36\n",
       "1285         1993         Oakland, CA    377037.0           2601.60\n",
       "1133         1991     Los Angeles, CA   3558316.0           2525.77\n",
       "1147         1991         Oakland, CA    379995.0           2495.82\n",
       "1202         1992     Los Angeles, CA   3615355.0           2459.48\n",
       "1064         1990     Los Angeles, CA   3485398.0           2404.57\n",
       "1271         1993     Los Angeles, CA   3525317.0           2374.28\n",
       "1423         1995         Oakland, CA    368771.0           2256.96\n",
       "995          1989     Los Angeles, CA   3441449.0           2246.06\n",
       "388          1980         Oakland, CA    338721.0           2224.84"
      ]
     },
     "execution_count": 13,
     "metadata": {},
     "output_type": "execute_result"
    }
   ],
   "source": [
    "crime_ca_sort.head(10)"
   ]
  },
  {
   "cell_type": "code",
   "execution_count": 14,
   "metadata": {
    "scrolled": true
   },
   "outputs": [
    {
     "data": {
      "text/plain": [
       "      report_year agency_jurisdiction  population  crimes_percapita\n",
       "2747         2014       San Diego, CA   1368690.0            380.95\n",
       "2059         2004        San Jose, CA    908712.0            371.84\n",
       "1990         2003        San Jose, CA    909890.0            371.25\n",
       "2611         2012        San Jose, CA    976459.0            363.25\n",
       "2404         2009        San Jose, CA    954009.0            360.48\n",
       "2473         2010        San Jose, CA    945942.0            339.87\n",
       "2542         2011        San Jose, CA    957062.0            334.98\n",
       "2818         2015        San Jose, CA   1031458.0            329.63\n",
       "2680         2013        San Jose, CA    992143.0            324.05\n",
       "2749         2014        San Jose, CA   1009679.0            321.09"
      ]
     },
     "execution_count": 14,
     "metadata": {},
     "output_type": "execute_result"
    }
   ],
   "source": [
    "crime_ca_sort.tail(10)"
   ]
  },
  {
   "cell_type": "markdown",
   "metadata": {},
   "source": [
    "#### Interesting fact: Oakland and LA in 1990s are the most dangerous cities in California, and San Jose in 2010s is the safest city in California!"
   ]
  },
  {
   "cell_type": "markdown",
   "metadata": {},
   "source": [
    "# 5. Series"
   ]
  },
  {
   "cell_type": "markdown",
   "metadata": {},
   "source": [
    "We create a new dataset whose years >= 2010 and a new one whose years < 2010"
   ]
  },
  {
   "cell_type": "code",
   "execution_count": 15,
   "metadata": {},
   "outputs": [],
   "source": [
    "crime_ca_m2010 = crime_ca[crime_ca[\"report_year\"]>=2010]\n",
    "crime_ca_l2010 = crime_ca[crime_ca[\"report_year\"]<2010]"
   ]
  },
  {
   "cell_type": "code",
   "execution_count": 16,
   "metadata": {},
   "outputs": [],
   "source": [
    "crime_ca_sort_m2010 = crime_ca_m2010.sort_values(by = \"crimes_percapita\",ascending=False)\n",
    "crime_ca_sort_l2010 = crime_ca_l2010.sort_values(by = \"crimes_percapita\",ascending=False)"
   ]
  },
  {
   "cell_type": "markdown",
   "metadata": {},
   "source": [
    "1)Let take a look at top 10 cities with highest crimes in 2010s"
   ]
  },
  {
   "cell_type": "code",
   "execution_count": 17,
   "metadata": {
    "scrolled": false
   },
   "outputs": [
    {
     "data": {
      "text/plain": [
       "2596          Oakland, CA\n",
       "2665          Oakland, CA\n",
       "2734          Oakland, CA\n",
       "2527          Oakland, CA\n",
       "2458          Oakland, CA\n",
       "2803          Oakland, CA\n",
       "2468       Sacramento, CA\n",
       "2679    San Francisco, CA\n",
       "2748    San Francisco, CA\n",
       "2817    San Francisco, CA\n",
       "Name: agency_jurisdiction, dtype: object"
      ]
     },
     "execution_count": 17,
     "metadata": {},
     "output_type": "execute_result"
    }
   ],
   "source": [
    "crime_ca_sort_m2010.agency_jurisdiction.head(10)"
   ]
  },
  {
   "cell_type": "markdown",
   "metadata": {},
   "source": [
    "2)Let take a look at top 10 cities with highest crimes before 2010"
   ]
  },
  {
   "cell_type": "code",
   "execution_count": 18,
   "metadata": {},
   "outputs": [
    {
     "data": {
      "text/plain": [
       "1216        Oakland, CA\n",
       "1285        Oakland, CA\n",
       "1133    Los Angeles, CA\n",
       "1147        Oakland, CA\n",
       "1202    Los Angeles, CA\n",
       "1064    Los Angeles, CA\n",
       "1271    Los Angeles, CA\n",
       "1423        Oakland, CA\n",
       "995     Los Angeles, CA\n",
       "388         Oakland, CA\n",
       "Name: agency_jurisdiction, dtype: object"
      ]
     },
     "execution_count": 18,
     "metadata": {},
     "output_type": "execute_result"
    }
   ],
   "source": [
    "crime_ca_sort_l2010.agency_jurisdiction.head(10)"
   ]
  },
  {
   "cell_type": "markdown",
   "metadata": {},
   "source": [
    "### Comparing with 1) and 2), we can get that Oakland, Sacramento, San Francisco are the top 3 cities with high crimes per capita in 2010s, and LA looks like safer comparing with itself in the history."
   ]
  },
  {
   "cell_type": "markdown",
   "metadata": {},
   "source": [
    "3)Let's take a look at crimes_percapita in 2010s"
   ]
  },
  {
   "cell_type": "code",
   "execution_count": 19,
   "metadata": {
    "scrolled": true
   },
   "outputs": [
    {
     "data": {
      "text/plain": [
       "2596    1993.31\n",
       "2665    1976.79\n",
       "2734    1685.39\n",
       "2527    1682.70\n",
       "2458    1603.95\n",
       "2803    1442.50\n",
       "2468     881.48\n",
       "2679     847.14\n",
       "2748     795.14\n",
       "2817     776.82\n",
       "Name: crimes_percapita, dtype: float64"
      ]
     },
     "execution_count": 19,
     "metadata": {},
     "output_type": "execute_result"
    }
   ],
   "source": [
    "crime_ca_sort_m2010.crimes_percapita.head(10)"
   ]
  },
  {
   "cell_type": "markdown",
   "metadata": {},
   "source": [
    "4)Let's take a look at crimes_percapita before 2010"
   ]
  },
  {
   "cell_type": "code",
   "execution_count": 20,
   "metadata": {
    "scrolled": false
   },
   "outputs": [
    {
     "data": {
      "text/plain": [
       "1216    2626.36\n",
       "1285    2601.60\n",
       "1133    2525.77\n",
       "1147    2495.82\n",
       "1202    2459.48\n",
       "1064    2404.57\n",
       "1271    2374.28\n",
       "1423    2256.96\n",
       "995     2246.06\n",
       "388     2224.84\n",
       "Name: crimes_percapita, dtype: float64"
      ]
     },
     "execution_count": 20,
     "metadata": {},
     "output_type": "execute_result"
    }
   ],
   "source": [
    "crime_ca_sort_l2010.crimes_percapita.head(10)"
   ]
  },
  {
   "cell_type": "markdown",
   "metadata": {},
   "source": [
    "### In a conclusion, the crimes are becoming fewer and fewer from past to the present."
   ]
  },
  {
   "cell_type": "markdown",
   "metadata": {},
   "source": [
    "5)Let's focus on **LA**"
   ]
  },
  {
   "cell_type": "code",
   "execution_count": 21,
   "metadata": {
    "scrolled": true
   },
   "outputs": [
    {
     "data": {
      "text/plain": [
       "2789    3962726.0\n",
       "2444    3792621.0\n",
       "2513    3837207.0\n",
       "2720    3906772.0\n",
       "2582    3855122.0\n",
       "Name: population, dtype: float64"
      ]
     },
     "execution_count": 21,
     "metadata": {},
     "output_type": "execute_result"
    }
   ],
   "source": [
    "crime_ca_sort_m2010[crime_ca_sort_m2010[\"agency_jurisdiction\"] == \"Los Angeles, CA\"].population.head(5)"
   ]
  },
  {
   "cell_type": "code",
   "execution_count": 22,
   "metadata": {
    "scrolled": false
   },
   "outputs": [
    {
     "data": {
      "text/plain": [
       "1133    3558316.0\n",
       "1202    3615355.0\n",
       "1064    3485398.0\n",
       "1271    3525317.0\n",
       "995     3441449.0\n",
       "Name: population, dtype: float64"
      ]
     },
     "execution_count": 22,
     "metadata": {},
     "output_type": "execute_result"
    }
   ],
   "source": [
    "crime_ca_sort_l2010[crime_ca_sort_l2010[\"agency_jurisdiction\"] == \"Los Angeles, CA\"].population.head(5)"
   ]
  },
  {
   "cell_type": "code",
   "execution_count": 23,
   "metadata": {
    "scrolled": true
   },
   "outputs": [
    {
     "data": {
      "text/plain": [
       "2789    634.82\n",
       "2444    566.47\n",
       "2513    522.39\n",
       "2720    490.71\n",
       "2582    481.10\n",
       "Name: crimes_percapita, dtype: float64"
      ]
     },
     "execution_count": 23,
     "metadata": {},
     "output_type": "execute_result"
    }
   ],
   "source": [
    "crime_ca_sort_m2010[crime_ca_sort_m2010[\"agency_jurisdiction\"] == \"Los Angeles, CA\"].crimes_percapita.head(5)"
   ]
  },
  {
   "cell_type": "code",
   "execution_count": 24,
   "metadata": {
    "scrolled": true
   },
   "outputs": [
    {
     "data": {
      "text/plain": [
       "1133    2525.77\n",
       "1202    2459.48\n",
       "1064    2404.57\n",
       "1271    2374.28\n",
       "995     2246.06\n",
       "Name: crimes_percapita, dtype: float64"
      ]
     },
     "execution_count": 24,
     "metadata": {},
     "output_type": "execute_result"
    }
   ],
   "source": [
    "crime_ca_sort_l2010[crime_ca_sort_l2010[\"agency_jurisdiction\"] == \"Los Angeles, CA\"].crimes_percapita.head(5)"
   ]
  },
  {
   "cell_type": "markdown",
   "metadata": {},
   "source": [
    "## As a conclusion, Los Angeles has the magnificant changes in crimes per capita comparing with the years before 2010, and the population is increasing!"
   ]
  },
  {
   "cell_type": "markdown",
   "metadata": {},
   "source": [
    "# 6. Plot"
   ]
  },
  {
   "cell_type": "markdown",
   "metadata": {},
   "source": [
    "I will plot 9 cities - LA, San Jose, Oakland, San Diego and their crimes per capita!"
   ]
  },
  {
   "cell_type": "code",
   "execution_count": 25,
   "metadata": {},
   "outputs": [],
   "source": [
    "LA = crime_ca[crime_ca[\"agency_jurisdiction\"] == \"Los Angeles, CA\"]\n",
    "SJ = crime_ca[crime_ca[\"agency_jurisdiction\"] == \"San Jose, CA\"]\n",
    "Oak = crime_ca[crime_ca[\"agency_jurisdiction\"] == \"Oakland, CA\"]\n",
    "SD = crime_ca[crime_ca[\"agency_jurisdiction\"] == \"San Diego, CA\"]\n",
    "Fr = crime_ca[crime_ca[\"agency_jurisdiction\"] == \"Fresno, CA\"]\n",
    "LB = crime_ca[crime_ca[\"agency_jurisdiction\"] == \"Long Beach, CA\"]\n",
    "LAC = crime_ca[crime_ca[\"agency_jurisdiction\"] == \"Los Angeles County, CA\"]\n",
    "Sa = crime_ca[crime_ca[\"agency_jurisdiction\"] == \"Sacramento, CA\"]\n",
    "SF = crime_ca[crime_ca[\"agency_jurisdiction\"] == \"San Francisco, CA\"]"
   ]
  },
  {
   "cell_type": "code",
   "execution_count": 26,
   "metadata": {
    "scrolled": true
   },
   "outputs": [
    {
     "data": {
      "image/png": "[encoded data removed]",
      "text/plain": [
       "<Figure size 432x288 with 1 Axes>"
      ]
     },
     "metadata": {
      "needs_background": "light"
     },
     "output_type": "display_data"
    }
   ],
   "source": [
    "import matplotlib.pyplot as plt\n",
    "import matplotlib\n",
    "plt.plot(LA.report_year,LA.crimes_percapita)\n",
    "plt.plot(SJ.report_year,SJ.crimes_percapita)\n",
    "plt.plot(Oak.report_year,Oak.crimes_percapita)\n",
    "plt.plot(SD.report_year,SD.crimes_percapita)\n",
    "plt.plot(Fr.report_year,Fr.crimes_percapita)\n",
    "plt.plot(LB.report_year,LB.crimes_percapita)\n",
    "plt.plot(LAC.report_year,LAC.crimes_percapita)\n",
    "plt.plot(Sa.report_year,Sa.crimes_percapita)\n",
    "plt.plot(SF.report_year,SF.crimes_percapita)\n",
    "plt.xlabel(\"years\", fontsize=10)\n",
    "plt.ylabel(\"crimes percapita\", fontsize=10)\n",
    "plt.title(\"crimes per capita in California\",fontsize=15)\n",
    "plt.legend([\"Los Angeles\",\"San Jose\",\"Oakland\",\"San Diego\",\"Fresno\",\"Long Beach\",\"Los Angeles County\",\"Sacramento\",\"San Francisco\"],loc = \"upper left\",fontsize=8)\n",
    "plt.show()"
   ]
  },
  {
   "cell_type": "code",
   "execution_count": 27,
   "metadata": {},
   "outputs": [
    {
     "data": {
      "image/png": "[encoded data removed]",
      "text/plain": [
       "<Figure size 432x288 with 1 Axes>"
      ]
     },
     "metadata": {
      "needs_background": "light"
     },
     "output_type": "display_data"
    }
   ],
   "source": [
    "plt.plot(LA.report_year,LA.population)\n",
    "plt.plot(SJ.report_year,SJ.population)\n",
    "plt.plot(Oak.report_year,Oak.population)\n",
    "plt.plot(SD.report_year,SD.population)\n",
    "plt.plot(Fr.report_year,Fr.population)\n",
    "plt.plot(LB.report_year,LB.population)\n",
    "plt.plot(LAC.report_year,LAC.population)\n",
    "plt.plot(Sa.report_year,Sa.population)\n",
    "plt.plot(SF.report_year,SF.population)\n",
    "plt.xlabel(\"years\", fontsize=10)\n",
    "plt.ylabel(\"population\", fontsize=10)\n",
    "plt.title(\"population in California\",fontsize=15)\n",
    "plt.legend([\"Los Angeles\",\"San Jose\",\"Oakland\",\"San Diego\",\"Fresno\",\"Long Beach\",\"Los Angeles County\",\"Sacramento\",\"San Francisco\"],loc = \"upper left\",fontsize=8)\n",
    "plt.show()"
   ]
  },
  {
   "cell_type": "markdown",
   "metadata": {},
   "source": [
    "As we can see, every cities are keeping stable slopes except Oakland, which means **Oakland is still the most dangerous city** in California. **San Jose and San Diego are the safest cities** in California. However, except Oakland, other 8 cities are becomming pretty safe!"
   ]
  },
  {
   "cell_type": "markdown",
   "metadata": {},
   "source": [
    "As for population, every city is increasing. **Los Angeles has the greatest poplation** in California, and with the pretty low crime. **Oakland has the lowest population**, with the highest crime possibility!"
   ]
  },
  {
   "cell_type": "markdown",
   "metadata": {},
   "source": [
    "# 7. Summary"
   ]
  },
  {
   "cell_type": "markdown",
   "metadata": {},
   "source": [
    "From **No.2 section**, we got that there are 9 cities from California in dataset record!<br>\n",
    "From **No.3 section**, we got that the population in Los Angeles is increasing, and the crime is decreasing - a huge downhill.<br>\n",
    "From **No.4 section**, we sorted dataset by column crime percapita, and found that in the past, Los Angeles and Oakland are the top 2 most dangerous cities in California, and San Jose is the safest city.<br>\n",
    "From **No.5 section**, we focused on the years after 2010, then we found that Oakland, Sacramento, San Francisco are the top 3 cities with high crimes per capita in 2010s, and LA looks like safer comparing with itself in the history. Also for crimes in California, the crimes are becoming less and less from past to the present.<br>\n",
    "From **No.6 section**, we looked through straightly in 2 graphs, to concluded and proved that Oakland is still the most dangerous city in California. San Jose and San Diego are the safest cities in California. Los Angeles has the greatest poplation in California, and with the pretty low crime. Oakland has the lowest population, with the highest crime possibility!"
   ]
  },
  {
   "cell_type": "markdown",
   "metadata": {},
   "source": [
    "# 8. Recommendations"
   ]
  },
  {
   "cell_type": "markdown",
   "metadata": {},
   "source": [
    "As a service center, we recommend that people who are living in Oakland right now, should stay careful, try to keep away from those things that may lead to occur crime and protect yourselves. For people who are living in other city, you should be fine in any time, but still keep eyes open!<br>\n",
    "And for those of who are planning to settle in California, if you prefer noise, excitement, more people, more fun, but still safe, you should choose Los Angeles. And for those who prefer peaceful, quiet, fewer people, you could choose any city except Los Angeles and Oakland. And if you are not forced, just don't go to Oakland!"
   ]
  },
  {
   "cell_type": "code",
   "execution_count": null,
   "metadata": {},
   "outputs": [],
   "source": []
  }
 ],
 "metadata": {
  "kernelspec": {
   "display_name": "Python 3",
   "language": "python",
   "name": "python3"
  },
  "language_info": {
   "codemirror_mode": {
    "name": "ipython",
    "version": 3
   },
   "file_extension": ".py",
   "mimetype": "text/x-python",
   "name": "python",
   "nbconvert_exporter": "python",
   "pygments_lexer": "ipython3",
   "version": "3.6.13"
  }
 },
 "nbformat": 4,
 "nbformat_minor": 4
}
